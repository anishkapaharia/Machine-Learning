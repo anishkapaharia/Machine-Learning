{
 "cells": [
  {
   "cell_type": "code",
   "execution_count": 3,
   "metadata": {
    "scrolled": true
   },
   "outputs": [
    {
     "data": {
      "image/png": "[encoded data removed]",
      "text/plain": [
       "<Figure size 432x288 with 1 Axes>"
      ]
     },
     "metadata": {
      "needs_background": "light"
     },
     "output_type": "display_data"
    },
    {
     "data": {
      "image/png": "[encoded data removed]",
      "text/plain": [
       "<Figure size 432x288 with 1 Axes>"
      ]
     },
     "metadata": {
      "needs_background": "light"
     },
     "output_type": "display_data"
    },
    {
     "name": "stdout",
     "output_type": "stream",
     "text": [
      "53\n"
     ]
    },
    {
     "data": {
      "image/png": "[encoded data removed]",
      "text/plain": [
       "<Figure size 432x288 with 1 Axes>"
      ]
     },
     "metadata": {
      "needs_background": "light"
     },
     "output_type": "display_data"
    }
   ],
   "source": [
    "import random\n",
    "import numpy as np\n",
    "import matplotlib.pyplot as mplt\n",
    "plt.rcParams['axes.unicode_minus'] = False \n",
    "%matplotlib inline\n",
    "def generateRandomLine():\n",
    "    line = np.random.random([2, 2])\n",
    "    x1 = line[0, 0]\n",
    "    y1 = line[0, 1]\n",
    "    x2 = line[1, 0]\n",
    "    y2 = line[1, 1]\n",
    "    k = (y1 - y2) / (x1 - x2)\n",
    "    b = y1 - k * x1\n",
    "    # y = kx + b => -b -kx + y = 0 slope equation\n",
    "    f = np.empty(3)\n",
    "    f[0] = -b\n",
    "    f[1] = -k\n",
    "    f[2] = 1\n",
    "    return f.reshape((3, 1))\n",
    "\n",
    "\n",
    "def computeYOfLine(w, x):\n",
    "    # w0 + w1*x + w2*y = 0\n",
    "    if w[2, 0] == 0:\n",
    "        return 0\n",
    "    return -(w[0, 0] + w[1, 0] * x) / w[2, 0]\n",
    "\n",
    "\n",
    "dataSetLimit = 20 \n",
    "\n",
    "# generate raw data using random and plot them on graph\n",
    "\n",
    "X = np.random.random([dataSetLimit, 2])\n",
    "X = np.concatenate((np.ones([dataSetLimit, 1]), X), axis=1)\n",
    "\n",
    "f = generateRandomLine()\n",
    "\n",
    "mplt.plot(X[:, 1], X[:, 2], \"rx\")\n",
    "# plot the line use x = -1, 2\n",
    "xs = [-1, 2]\n",
    "ys = [computeYOfLine(f, x) for x in xs]\n",
    "mplt.plot(xs, ys, \"b-\")\n",
    "mplt.xlim((-0.05, 1.05))\n",
    "mplt.ylim((-0.05, 1.05))\n",
    "mplt.show()\n",
    "\n",
    "\n",
    "\n",
    "# classify data\n",
    "\n",
    "y = np.matmul(X, f)\n",
    "# we must use a one dimension array to index X\n",
    "greatest = (y >= 0).reshape(dataSetLimit) \n",
    "least = X[~greatest]\n",
    "greatest = X[greatest]\n",
    "\n",
    "mplt.plot(greatest[:, 1], greatest[:, 2], 'rx')\n",
    "mplt.plot(least[:, 1], least[:, 2], 'go')\n",
    "mplt.plot(xs, ys, \"b-\")\n",
    "mplt.xlim((-0.05, 1.05))\n",
    "mplt.ylim((-0.05, 1.05))\n",
    "mplt.show()\n",
    "\n",
    "for i in range(dataSetLimit):\n",
    "    if y[i] < 0:\n",
    "        y[i] = -1\n",
    "    else:\n",
    "        y[i] = 1\n",
    "\n",
    "# run a perceptron learning algorithm\n",
    "count=0\n",
    "weight = np.empty((3, 1))\n",
    "while True:\n",
    "    flag = True\n",
    "    for i in range(dataSetLimit):\n",
    "        x = X[i]\n",
    "        h = 1\n",
    "        if np.matmul(x, weight) < 0:\n",
    "            h = -1\n",
    "        if h != y[i]:\n",
    "            weight += (y[i] * x).reshape((3, 1))\n",
    "            flag = False\n",
    "    if flag:\n",
    "        break\n",
    "    count+=1\n",
    "print(count)\n",
    "#\n",
    "\n",
    "mplt.plot(greatest[:, 1], greatest[:, 2], 'rx')\n",
    "mplt.plot(least[:, 1], least[:, 2], 'go')\n",
    "mplt.plot(xs, ys, \"b-\")\n",
    "ys = [computeYOfLine(weight, x) for x in xs]\n",
    "mplt.plot(xs, ys, \"r-\")\n",
    "mplt.xlim((-0.05, 1.05))\n",
    "mplt.ylim((-0.05, 1.05))\n",
    "mplt.show()"
   ]
  },
  {
   "cell_type": "code",
   "execution_count": 4,
   "metadata": {},
   "outputs": [
    {
     "name": "stdout",
     "output_type": "stream",
     "text": [
      "c:\\users\\sony\\appdata\\local\\programs\\python\\python37\\python.exe\n"
     ]
    }
   ],
   "source": [
    "import sys\n",
    "print(sys.executable)"
   ]
  },
  {
   "cell_type": "code",
   "execution_count": null,
   "metadata": {},
   "outputs": [],
   "source": []
  },
  {
   "cell_type": "code",
   "execution_count": null,
   "metadata": {},
   "outputs": [],
   "source": []
  },
  {
   "cell_type": "code",
   "execution_count": null,
   "metadata": {},
   "outputs": [],
   "source": []
  },
  {
   "cell_type": "code",
   "execution_count": null,
   "metadata": {},
   "outputs": [],
   "source": []
  }
 ],
 "metadata": {
  "kernelspec": {
   "display_name": "Python 3",
   "language": "python",
   "name": "python3"
  },
  "language_info": {
   "codemirror_mode": {
    "name": "ipython",
    "version": 3
   },
   "file_extension": ".py",
   "mimetype": "text/x-python",
   "name": "python",
   "nbconvert_exporter": "python",
   "pygments_lexer": "ipython3",
   "version": "3.7.0"
  }
 },
 "nbformat": 4,
 "nbformat_minor": 2
}
